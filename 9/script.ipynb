{
 "cells": [
  {
   "cell_type": "code",
   "execution_count": 1,
   "metadata": {},
   "outputs": [],
   "source": [
    "import pandas\n",
    "import numpy\n",
    "arr = numpy.loadtxt(\"news_vec.csv\", delimiter=\",\", skiprows=0)\n",
    "df = pandas.read_csv(\"news.csv\")"
   ]
  },
  {
   "cell_type": "code",
   "execution_count": 2,
   "metadata": {},
   "outputs": [
    {
     "data": {
      "text/plain": [
       "array([[ 0.02281413, -0.17723669, -0.13508506, ...,  0.14932056,\n",
       "         0.11215357,  0.41095725],\n",
       "       [ 0.00736143, -0.38480246, -0.06400743, ...,  0.00873213,\n",
       "        -0.20535988,  0.2307152 ],\n",
       "       [ 0.18793575, -0.00538321, -0.1219346 , ...,  0.01938213,\n",
       "         0.05972276,  0.35837272],\n",
       "       ...,\n",
       "       [-0.12519734, -0.1841969 , -0.18963887, ...,  0.02608965,\n",
       "        -0.03715415,  0.25774932],\n",
       "       [-0.11624447, -0.20403437, -0.14648224, ...,  0.31610915,\n",
       "        -0.13990121,  0.19243106],\n",
       "       [ 0.41316631, -0.0947281 , -0.23552676, ..., -0.07068527,\n",
       "         0.00761742,  0.5309391 ]])"
      ]
     },
     "execution_count": 2,
     "metadata": {},
     "output_type": "execute_result"
    }
   ],
   "source": [
    "arr"
   ]
  },
  {
   "cell_type": "code",
   "execution_count": 3,
   "metadata": {},
   "outputs": [
    {
     "data": {
      "text/plain": [
       "(366, 768)"
      ]
     },
     "execution_count": 3,
     "metadata": {},
     "output_type": "execute_result"
    }
   ],
   "source": [
    "arr.shape"
   ]
  },
  {
   "cell_type": "code",
   "execution_count": 4,
   "metadata": {
    "scrolled": true
   },
   "outputs": [],
   "source": [
    "df[\"Trump_flag\"] = df[\"News\"].apply(lambda x: 1 if \"Trump\" in x else 0)"
   ]
  },
  {
   "cell_type": "code",
   "execution_count": 5,
   "metadata": {
    "scrolled": true
   },
   "outputs": [],
   "source": [
    "from sklearn.decomposition import PCA\n",
    "pca = PCA(n_components=2)\n",
    "pca.fit(arr)\n",
    "vec2 = pca.transform(arr)"
   ]
  },
  {
   "cell_type": "code",
   "execution_count": 6,
   "metadata": {
    "scrolled": true
   },
   "outputs": [],
   "source": [
    "import matplotlib.pyplot as plt"
   ]
  },
  {
   "cell_type": "code",
   "execution_count": 7,
   "metadata": {
    "scrolled": true
   },
   "outputs": [
    {
     "data": {
      "text/plain": [
       "array([[ 1.08691697,  1.62751136],\n",
       "       [ 0.6727397 ,  0.92733459],\n",
       "       [-1.40517422, -0.35770573]])"
      ]
     },
     "execution_count": 7,
     "metadata": {},
     "output_type": "execute_result"
    }
   ],
   "source": [
    "vec2[0:3]"
   ]
  },
  {
   "cell_type": "code",
   "execution_count": 8,
   "metadata": {
    "scrolled": true
   },
   "outputs": [],
   "source": [
    "df[\"pca_1\"] = vec2[:, 0]\n",
    "df[\"pca_2\"] = vec2[:, 1]"
   ]
  },
  {
   "cell_type": "code",
   "execution_count": 9,
   "metadata": {},
   "outputs": [],
   "source": [
    "df_flag_0 = df.query(\"Trump_flag == 0\")\n",
    "df_flag_1 = df.query(\"Trump_flag == 1\")"
   ]
  },
  {
   "cell_type": "code",
   "execution_count": 10,
   "metadata": {
    "scrolled": true
   },
   "outputs": [
    {
     "data": {
      "image/png": "[encoded data removed]",
      "text/plain": [
       "<Figure size 288x288 with 1 Axes>"
      ]
     },
     "metadata": {
      "needs_background": "light"
     },
     "output_type": "display_data"
    }
   ],
   "source": [
    "plt.figure(figsize=(4, 4))\n",
    "plt.scatter(df_flag_0[\"pca_1\"], df_flag_0[\"pca_2\"], alpha=0.8, c=\"r\")\n",
    "plt.scatter(df_flag_1[\"pca_1\"], df_flag_1[\"pca_2\"], alpha=0.8, c=\"b\")\n",
    "plt.grid()\n",
    "plt.xlabel(\"PC1\")\n",
    "plt.ylabel(\"PC2\")\n",
    "plt.show()"
   ]
  },
  {
   "cell_type": "code",
   "execution_count": null,
   "metadata": {},
   "outputs": [],
   "source": []
  }
 ],
 "metadata": {
  "kernelspec": {
   "display_name": "Python 3",
   "language": "python",
   "name": "python3"
  },
  "language_info": {
   "codemirror_mode": {
    "name": "ipython",
    "version": 3
   },
   "file_extension": ".py",
   "mimetype": "text/x-python",
   "name": "python",
   "nbconvert_exporter": "python",
   "pygments_lexer": "ipython3",
   "version": "3.7.3"
  }
 },
 "nbformat": 4,
 "nbformat_minor": 2
}
