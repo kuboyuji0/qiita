{
 "cells": [
  {
   "cell_type": "code",
   "execution_count": 1,
   "metadata": {},
   "outputs": [],
   "source": [
    "import pandas\n",
    "\n",
    "df = pandas.read_csv(\"data/clustering_vec.csv\")"
   ]
  },
  {
   "cell_type": "code",
   "execution_count": 2,
   "metadata": {},
   "outputs": [],
   "source": [
    "ccae_columns = df.columns[1:]"
   ]
  },
  {
   "cell_type": "code",
   "execution_count": 5,
   "metadata": {},
   "outputs": [
    {
     "name": "stdout",
     "output_type": "stream",
     "text": [
      "2120_2016-07-21_2016-12-05.png\n"
     ]
    }
   ],
   "source": [
    "query = df[\"filepath\"][0]\n",
    "print(query)\n",
    "query_arr = df[df[\"filepath\"] == query][ccae_columns].values"
   ]
  },
  {
   "cell_type": "code",
   "execution_count": 6,
   "metadata": {},
   "outputs": [],
   "source": [
    "import math\n",
    "import numpy\n",
    "diff = df[ccae_columns] - query_arr\n",
    "d = numpy.sqrt((diff * diff).sum(axis=1))"
   ]
  },
  {
   "cell_type": "code",
   "execution_count": 7,
   "metadata": {},
   "outputs": [],
   "source": [
    "df[\"d\"] = d"
   ]
  },
  {
   "cell_type": "code",
   "execution_count": 8,
   "metadata": {},
   "outputs": [
    {
     "data": {
      "text/html": [
       "<div>\n",
       "<style scoped>\n",
       "    .dataframe tbody tr th:only-of-type {\n",
       "        vertical-align: middle;\n",
       "    }\n",
       "\n",
       "    .dataframe tbody tr th {\n",
       "        vertical-align: top;\n",
       "    }\n",
       "\n",
       "    .dataframe thead th {\n",
       "        text-align: right;\n",
       "    }\n",
       "</style>\n",
       "<table border=\"1\" class=\"dataframe\">\n",
       "  <thead>\n",
       "    <tr style=\"text-align: right;\">\n",
       "      <th></th>\n",
       "      <th>filepath</th>\n",
       "      <th>d</th>\n",
       "    </tr>\n",
       "  </thead>\n",
       "  <tbody>\n",
       "    <tr>\n",
       "      <th>0</th>\n",
       "      <td>2120_2016-07-21_2016-12-05.png</td>\n",
       "      <td>0.000000</td>\n",
       "    </tr>\n",
       "    <tr>\n",
       "      <th>1</th>\n",
       "      <td>2120_2016-07-21_2016-12-16.png</td>\n",
       "      <td>15.407977</td>\n",
       "    </tr>\n",
       "    <tr>\n",
       "      <th>2</th>\n",
       "      <td>2120_2016-07-21_2016-12-21.png</td>\n",
       "      <td>17.051847</td>\n",
       "    </tr>\n",
       "    <tr>\n",
       "      <th>3</th>\n",
       "      <td>2120_2016-07-21_2016-12-22.png</td>\n",
       "      <td>17.753044</td>\n",
       "    </tr>\n",
       "    <tr>\n",
       "      <th>4</th>\n",
       "      <td>2120_2016-07-21_2016-12-26.png</td>\n",
       "      <td>18.138723</td>\n",
       "    </tr>\n",
       "    <tr>\n",
       "      <th>7</th>\n",
       "      <td>2120_2016-07-21_2017-01-10.png</td>\n",
       "      <td>20.109082</td>\n",
       "    </tr>\n",
       "    <tr>\n",
       "      <th>6</th>\n",
       "      <td>2120_2016-07-21_2017-01-05.png</td>\n",
       "      <td>20.608673</td>\n",
       "    </tr>\n",
       "    <tr>\n",
       "      <th>8</th>\n",
       "      <td>2120_2016-07-21_2017-01-12.png</td>\n",
       "      <td>20.694684</td>\n",
       "    </tr>\n",
       "    <tr>\n",
       "      <th>5</th>\n",
       "      <td>2120_2016-07-21_2017-01-04.png</td>\n",
       "      <td>20.758602</td>\n",
       "    </tr>\n",
       "    <tr>\n",
       "      <th>9</th>\n",
       "      <td>2120_2016-07-21_2017-01-16.png</td>\n",
       "      <td>21.274243</td>\n",
       "    </tr>\n",
       "  </tbody>\n",
       "</table>\n",
       "</div>"
      ],
      "text/plain": [
       "                         filepath          d\n",
       "0  2120_2016-07-21_2016-12-05.png   0.000000\n",
       "1  2120_2016-07-21_2016-12-16.png  15.407977\n",
       "2  2120_2016-07-21_2016-12-21.png  17.051847\n",
       "3  2120_2016-07-21_2016-12-22.png  17.753044\n",
       "4  2120_2016-07-21_2016-12-26.png  18.138723\n",
       "7  2120_2016-07-21_2017-01-10.png  20.109082\n",
       "6  2120_2016-07-21_2017-01-05.png  20.608673\n",
       "8  2120_2016-07-21_2017-01-12.png  20.694684\n",
       "5  2120_2016-07-21_2017-01-04.png  20.758602\n",
       "9  2120_2016-07-21_2017-01-16.png  21.274243"
      ]
     },
     "execution_count": 8,
     "metadata": {},
     "output_type": "execute_result"
    }
   ],
   "source": [
    "df.sort_values(\"d\")[[\"filepath\", \"d\"]].head(10)"
   ]
  },
  {
   "cell_type": "code",
   "execution_count": 10,
   "metadata": {},
   "outputs": [
    {
     "name": "stdout",
     "output_type": "stream",
     "text": [
      "2120_2016-07-21_2016-12-16.png\n"
     ]
    }
   ],
   "source": [
    "most_similarity_chart = df.sort_values(\"d\")[[\"filepath\", \"d\"]].head(10)[\"filepath\"][1]\n",
    "print(most_similarity_chart)"
   ]
  },
  {
   "cell_type": "code",
   "execution_count": 11,
   "metadata": {},
   "outputs": [],
   "source": [
    "from PIL import Image\n"
   ]
  },
  {
   "cell_type": "code",
   "execution_count": 13,
   "metadata": {},
   "outputs": [
    {
     "data": {
      "image/png": "[encoded data removed]",
      "text/plain": [
       "<PIL.PngImagePlugin.PngImageFile image mode=RGBA size=64x64 at 0x7F0B40C8FFD0>"
      ]
     },
     "execution_count": 13,
     "metadata": {},
     "output_type": "execute_result"
    }
   ],
   "source": [
    "Image.open(\"data/img/clustering/{}\".format(query))"
   ]
  },
  {
   "cell_type": "code",
   "execution_count": 14,
   "metadata": {},
   "outputs": [
    {
     "data": {
      "image/png": "[encoded data removed]",
      "text/plain": [
       "<PIL.PngImagePlugin.PngImageFile image mode=RGBA size=64x64 at 0x7F0B3EBB8278>"
      ]
     },
     "execution_count": 14,
     "metadata": {},
     "output_type": "execute_result"
    }
   ],
   "source": [
    "Image.open(\"data/img/clustering/{}\".format(most_similarity_chart))"
   ]
  },
  {
   "cell_type": "code",
   "execution_count": null,
   "metadata": {},
   "outputs": [],
   "source": []
  }
 ],
 "metadata": {
  "kernelspec": {
   "display_name": "Python 3",
   "language": "python",
   "name": "python3"
  },
  "language_info": {
   "codemirror_mode": {
    "name": "ipython",
    "version": 3
   },
   "file_extension": ".py",
   "mimetype": "text/x-python",
   "name": "python",
   "nbconvert_exporter": "python",
   "pygments_lexer": "ipython3",
   "version": "3.7.3"
  }
 },
 "nbformat": 4,
 "nbformat_minor": 2
}
